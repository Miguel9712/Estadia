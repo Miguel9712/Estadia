{
  "nbformat": 4,
  "nbformat_minor": 0,
  "metadata": {
    "colab": {
      "provenance": [],
      "gpuType": "T4",
      "authorship_tag": "ABX9TyNL3w8jwrA10jFyVVVINuUW",
      "include_colab_link": true
    },
    "kernelspec": {
      "name": "python3",
      "display_name": "Python 3"
    },
    "language_info": {
      "name": "python"
    },
    "accelerator": "GPU"
  },
  "cells": [
    {
      "cell_type": "markdown",
      "metadata": {
        "id": "view-in-github",
        "colab_type": "text"
      },
      "source": [
        "<a href=\"https://colab.research.google.com/github/Miguel9712/Estadia/blob/main/OCR_Model_Test.ipynb\" target=\"_parent\"><img src=\"https://colab.research.google.com/assets/colab-badge.svg\" alt=\"Open In Colab\"/></a>"
      ]
    },
    {
      "cell_type": "markdown",
      "metadata": {
        "id": "c44f85b3"
      },
      "source": [
        "# Task\n",
        "Perform OCR on the image located at \"/content/Test 1.jpg\" using the model located at \"/content/OCR_model\" and output the recognized text."
      ]
    },
    {
      "cell_type": "markdown",
      "metadata": {
        "id": "dc584b03"
      },
      "source": [
        "## Load the ocr model\n",
        "\n",
        "Load the OCR model from the specified path \"/content/OCR_model\".\n",
        "\n",
        "Import the necessary libraries and load the OCR model and processor from the specified path.\n"
      ]
    },
    {
      "cell_type": "code",
      "source": [
        "from PIL import Image\n",
        "from IPython.display import display"
      ],
      "metadata": {
        "id": "RRVIFrHhQhx7"
      },
      "execution_count": 9,
      "outputs": []
    },
    {
      "cell_type": "code",
      "metadata": {
        "id": "2f3aa8d7"
      },
      "source": [
        "from transformers import VisionEncoderDecoderModel, AutoProcessor\n",
        "\n",
        "model_path = \"/content/OCR_model\"\n",
        "processor = AutoProcessor.from_pretrained(model_path)"
      ],
      "execution_count": 7,
      "outputs": []
    },
    {
      "cell_type": "code",
      "metadata": {
        "colab": {
          "base_uri": "https://localhost:8080/"
        },
        "id": "VIYirSobOrok",
        "outputId": "ba3fbc90-1a03-4e4d-ab01-c41c561da845"
      },
      "source": [
        "from transformers import BlipForConditionalGeneration, AutoProcessor\n",
        "\n",
        "model_path = \"/content/OCR_model\"\n",
        "model = BlipForConditionalGeneration.from_pretrained(model_path)\n",
        "processor = AutoProcessor.from_pretrained(model_path)"
      ],
      "execution_count": 2,
      "outputs": [
        {
          "output_type": "stream",
          "name": "stderr",
          "text": [
            "Using a slow image processor as `use_fast` is unset and a slow processor was saved with this model. `use_fast=True` will be the default behavior in v4.52, even if the model was saved with a slow processor. This will result in minor differences in outputs. You'll still be able to use a slow processor with `use_fast=False`.\n"
          ]
        }
      ]
    },
    {
      "cell_type": "markdown",
      "metadata": {
        "id": "897fa48b"
      },
      "source": [
        "## Load the image\n",
        "\n"
      ]
    },
    {
      "cell_type": "code",
      "metadata": {
        "id": "39151cae"
      },
      "source": [
        "from PIL import Image\n",
        "\n",
        "image_path = \"/content/Test 1.jpg\"\n",
        "image = Image.open(image_path)"
      ],
      "execution_count": 3,
      "outputs": []
    },
    {
      "cell_type": "markdown",
      "metadata": {
        "id": "1831a346"
      },
      "source": [
        "## Preprocess the image\n",
        "\n",
        "\n",
        "Preprocess the image as required by the OCR model.\n",
        "\n",
        "Use the loaded processor object to preprocess the loaded image and store the result in pixel_values.\n"
      ]
    },
    {
      "cell_type": "code",
      "metadata": {
        "id": "c2dd1b42"
      },
      "source": [
        "pixel_values = processor(images=image, return_tensors=\"pt\").pixel_values"
      ],
      "execution_count": 4,
      "outputs": []
    },
    {
      "cell_type": "markdown",
      "metadata": {
        "id": "133bff4a"
      },
      "source": [
        "## Perform ocr\n",
        "\n",
        "\n",
        "Use the loaded model to perform OCR on the preprocessed image.\n",
        "\n",
        "Use the loaded model and preprocessed image data to generate text, then decode the generated IDs to get the recognized text.\n"
      ]
    },
    {
      "cell_type": "code",
      "metadata": {
        "colab": {
          "base_uri": "https://localhost:8080/"
        },
        "id": "028a9aa8",
        "outputId": "3622ad74-3670-4e31-cb49-32d225c8cc44"
      },
      "source": [
        "generated_ids = model.generate(pixel_values)\n",
        "recognized_text = processor.batch_decode(generated_ids, skip_special_tokens=True)[0]\n",
        "print(recognized_text)"
      ],
      "execution_count": 5,
      "outputs": [
        {
          "output_type": "stream",
          "name": "stdout",
          "text": [
            "a black and white photo of a friend text\n"
          ]
        }
      ]
    },
    {
      "cell_type": "markdown",
      "metadata": {
        "id": "06ae4d12"
      },
      "source": [
        "## Display the output\n",
        "\n",
        "\n",
        "Display the text output from the OCR model.\n",
        "\n",
        "Display the value of the recognized_text variable."
      ]
    },
    {
      "cell_type": "code",
      "metadata": {
        "colab": {
          "base_uri": "https://localhost:8080/"
        },
        "id": "dd1893b1",
        "outputId": "4b149d98-82c7-450c-8f78-c456432e0010"
      },
      "source": [
        "print(recognized_text)"
      ],
      "execution_count": 6,
      "outputs": [
        {
          "output_type": "stream",
          "name": "stdout",
          "text": [
            "a black and white photo of a friend text\n"
          ]
        }
      ]
    },
    {
      "cell_type": "code",
      "metadata": {
        "colab": {
          "base_uri": "https://localhost:8080/",
          "height": 77
        },
        "id": "6284287e",
        "outputId": "2b81357c-3ce3-4d7b-e51d-30509a20a468"
      },
      "source": [
        "image_path = \"/content/Test 1.jpg\"\n",
        "image = Image.open(image_path)\n",
        "display(image)"
      ],
      "execution_count": 10,
      "outputs": [
        {
          "output_type": "display_data",
          "data": {
            "text/plain": [
              "<PIL.JpegImagePlugin.JpegImageFile image mode=RGB size=164x60>"
            ],
            "image/png": "[encoded data removed]",
            "image/jpeg": "[encoded data removed]"
          },
          "metadata": {}
        }
      ]
    },
    {
      "cell_type": "markdown",
      "metadata": {
        "id": "5bc7df6b"
      },
      "source": [
        "## Summary:\n",
        "\n",
        "### Data Analysis Key Findings\n",
        "\n",
        "*   The OCR model successfully loaded from the specified path \"/content/OCR\\_model\" using `BlipForConditionalGeneration` and `AutoProcessor`.\n",
        "*   The image file located at \"/content/Test 1.jpg\" was successfully loaded using the PIL library.\n",
        "*   The image was preprocessed using the loaded processor, and the pixel values were converted to the PyTorch tensor format.\n",
        "*   The OCR model processed the preprocessed image and generated text, which was decoded to \"a black and white photo of a friend text\".\n",
        "\n",
        "### Insights or Next Steps\n",
        "\n",
        "*   The recognized text suggests the OCR model is primarily describing the image content rather than extracting specific text within the image. This indicates the model might be a general image captioning model rather than a dedicated text OCR model, or it requires further fine-tuning for text recognition tasks.\n",
        "*   To perform true OCR, consider using a model specifically designed for text recognition in images.\n"
      ]
    }
  ]
}